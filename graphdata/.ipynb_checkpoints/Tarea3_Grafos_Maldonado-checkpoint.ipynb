{
 "cells": [
  {
   "cell_type": "code",
   "execution_count": null,
   "id": "b59f9f26-3c31-4640-932c-ef7ae1bb4b42",
   "metadata": {},
   "outputs": [],
   "source": [
    "#Creando gráfico:"
   ]
  },
  {
   "cell_type": "code",
   "execution_count": 1,
   "id": "18bafbf8-f2a6-40ef-aa83-dc24e561f5cd",
   "metadata": {},
   "outputs": [],
   "source": [
    "import networkx as nx\n",
    "\n",
    "# create graph\n",
    "G = nx.Graph()\n",
    "\n",
    "# create nodes and edges\n",
    "G.add_edges_from([(1, 2), (1, 5),(2,5),(2,3),(3,4),(4,5),(4,6)])"
   ]
  },
  {
   "cell_type": "code",
   "execution_count": null,
   "id": "3794d4ac-cf64-4d33-b687-d052fdd2189d",
   "metadata": {},
   "outputs": [],
   "source": [
    "#Elementos básicos:"
   ]
  },
  {
   "cell_type": "code",
   "execution_count": 2,
   "id": "73d0b2db-528a-414f-9b66-ac044444a372",
   "metadata": {},
   "outputs": [
    {
     "data": {
      "text/plain": [
       "<networkx.classes.graph.Graph at 0x134e52c4910>"
      ]
     },
     "execution_count": 2,
     "metadata": {},
     "output_type": "execute_result"
    }
   ],
   "source": [
    "#you don't see much...just what it is:\n",
    "G"
   ]
  },
  {
   "cell_type": "code",
   "execution_count": 3,
   "id": "c101a980-1a85-4948-8542-0908eaf7b5d3",
   "metadata": {},
   "outputs": [
    {
     "data": {
      "text/plain": [
       "NodeDataView({1: {}, 2: {}, 5: {}, 3: {}, 4: {}, 6: {}})"
      ]
     },
     "execution_count": 3,
     "metadata": {},
     "output_type": "execute_result"
    }
   ],
   "source": [
    "# You see nodes\n",
    "G.nodes.data()"
   ]
  },
  {
   "cell_type": "code",
   "execution_count": 4,
   "id": "7c48a388-7462-443f-838e-49d650d0bb89",
   "metadata": {},
   "outputs": [
    {
     "data": {
      "text/plain": [
       "NodeView((1, 2, 5, 3, 4, 6))"
      ]
     },
     "execution_count": 4,
     "metadata": {},
     "output_type": "execute_result"
    }
   ],
   "source": [
    "# You see node ids\n",
    "G.nodes()"
   ]
  },
  {
   "cell_type": "code",
   "execution_count": 5,
   "id": "4d0f7dd1-d2c5-433e-9c82-5d1d1162397d",
   "metadata": {},
   "outputs": [
    {
     "data": {
      "text/plain": [
       "ValuesView(NodeView((1, 2, 5, 3, 4, 6)))"
      ]
     },
     "execution_count": 5,
     "metadata": {},
     "output_type": "execute_result"
    }
   ],
   "source": [
    "# similar\n",
    "G.nodes().values()"
   ]
  },
  {
   "cell_type": "code",
   "execution_count": 6,
   "id": "d3387047-0bf0-4761-a69f-4958c0fe9447",
   "metadata": {},
   "outputs": [
    {
     "data": {
      "text/plain": [
       "ValuesView(NodeView((1, 2, 5, 3, 4, 6)))"
      ]
     },
     "execution_count": 6,
     "metadata": {},
     "output_type": "execute_result"
    }
   ],
   "source": [
    "# similar\n",
    "G.nodes().values()"
   ]
  },
  {
   "cell_type": "code",
   "execution_count": 7,
   "id": "f90b949b-cb91-4819-ae86-702a40359ab1",
   "metadata": {},
   "outputs": [
    {
     "data": {
      "text/plain": [
       "ItemsView(EdgeView([(1, 2), (1, 5), (2, 5), (2, 3), (5, 4), (3, 4), (4, 6)]))"
      ]
     },
     "execution_count": 7,
     "metadata": {},
     "output_type": "execute_result"
    }
   ],
   "source": [
    "G.edges().items()"
   ]
  },
  {
   "cell_type": "code",
   "execution_count": 8,
   "id": "dfe6a51d-4f10-4bc7-8cc3-8f43166ca651",
   "metadata": {},
   "outputs": [],
   "source": [
    "#Drawing"
   ]
  },
  {
   "cell_type": "code",
   "execution_count": 9,
   "id": "7d9f9411-1d6a-47eb-8b6a-811f7110850a",
   "metadata": {},
   "outputs": [
    {
     "data": {
      "image/png": "[encoded data removed]",
      "text/plain": [
       "<Figure size 640x480 with 1 Axes>"
      ]
     },
     "metadata": {},
     "output_type": "display_data"
    }
   ],
   "source": [
    "# draw\n",
    "nx.draw(G=G,\n",
    "        with_labels=True,\n",
    "        node_color='yellow',\n",
    "        edgecolors='black')"
   ]
  },
  {
   "cell_type": "code",
   "execution_count": 10,
   "id": "7e0b0ba2-de2f-40f1-ae7e-6e3e5256ff3f",
   "metadata": {},
   "outputs": [
    {
     "data": {
      "text/plain": [
       "{1: '1', 2: '2', 5: '5', 3: '3', 4: '4', 6: '6'}"
      ]
     },
     "execution_count": 10,
     "metadata": {},
     "output_type": "execute_result"
    }
   ],
   "source": [
    "# dict of labels\n",
    "labels={i:str(i) for i in G.nodes()} #labels={i: yo+str(i) for i in G.nodes()}\n",
    "labels # string as label"
   ]
  },
  {
   "cell_type": "code",
   "execution_count": 11,
   "id": "9c111614-ff46-43bd-9b96-1fd99d4d3730",
   "metadata": {},
   "outputs": [
    {
     "data": {
      "text/plain": [
       "NodeDataView({1: {'label': '1', 'color': 'red'}, 2: {'label': '2', 'color': 'red'}, 5: {'label': '5', 'color': 'red'}, 3: {'label': '3', 'color': 'red'}, 4: {'label': '4', 'color': 'red'}, 6: {'label': '6', 'color': 'red'}})"
      ]
     },
     "execution_count": 11,
     "metadata": {},
     "output_type": "execute_result"
    }
   ],
   "source": [
    "nx.set_node_attributes(G,labels,'label') # values according to id\n",
    "nx.set_node_attributes(G,'red','color') # for all\n",
    "G.nodes.data()"
   ]
  },
  {
   "cell_type": "code",
   "execution_count": 13,
   "id": "daae3582-93cb-409d-b59e-9a790a3d00ca",
   "metadata": {},
   "outputs": [
    {
     "name": "stdout",
     "output_type": "stream",
     "text": [
      "Collecting pyvis\n",
      "  Downloading pyvis-0.3.2-py3-none-any.whl.metadata (1.7 kB)\n",
      "Requirement already satisfied: ipython>=5.3.0 in c:\\users\\lenovo\\anaconda3\\lib\\site-packages (from pyvis) (8.20.0)\n",
      "Requirement already satisfied: jinja2>=2.9.6 in c:\\users\\lenovo\\anaconda3\\lib\\site-packages (from pyvis) (3.1.3)\n",
      "Collecting jsonpickle>=1.4.1 (from pyvis)\n",
      "  Downloading jsonpickle-3.0.4-py3-none-any.whl.metadata (2.6 kB)\n",
      "Requirement already satisfied: networkx>=1.11 in c:\\users\\lenovo\\anaconda3\\lib\\site-packages (from pyvis) (3.1)\n",
      "Requirement already satisfied: decorator in c:\\users\\lenovo\\anaconda3\\lib\\site-packages (from ipython>=5.3.0->pyvis) (5.1.1)\n",
      "Requirement already satisfied: jedi>=0.16 in c:\\users\\lenovo\\anaconda3\\lib\\site-packages (from ipython>=5.3.0->pyvis) (0.18.1)\n",
      "Requirement already satisfied: matplotlib-inline in c:\\users\\lenovo\\anaconda3\\lib\\site-packages (from ipython>=5.3.0->pyvis) (0.1.6)\n",
      "Requirement already satisfied: prompt-toolkit<3.1.0,>=3.0.41 in c:\\users\\lenovo\\anaconda3\\lib\\site-packages (from ipython>=5.3.0->pyvis) (3.0.43)\n",
      "Requirement already satisfied: pygments>=2.4.0 in c:\\users\\lenovo\\anaconda3\\lib\\site-packages (from ipython>=5.3.0->pyvis) (2.15.1)\n",
      "Requirement already satisfied: stack-data in c:\\users\\lenovo\\anaconda3\\lib\\site-packages (from ipython>=5.3.0->pyvis) (0.2.0)\n",
      "Requirement already satisfied: traitlets>=5 in c:\\users\\lenovo\\anaconda3\\lib\\site-packages (from ipython>=5.3.0->pyvis) (5.7.1)\n",
      "Requirement already satisfied: colorama in c:\\users\\lenovo\\anaconda3\\lib\\site-packages (from ipython>=5.3.0->pyvis) (0.4.6)\n",
      "Requirement already satisfied: MarkupSafe>=2.0 in c:\\users\\lenovo\\anaconda3\\lib\\site-packages (from jinja2>=2.9.6->pyvis) (2.1.3)\n",
      "Requirement already satisfied: parso<0.9.0,>=0.8.0 in c:\\users\\lenovo\\anaconda3\\lib\\site-packages (from jedi>=0.16->ipython>=5.3.0->pyvis) (0.8.3)\n",
      "Requirement already satisfied: wcwidth in c:\\users\\lenovo\\anaconda3\\lib\\site-packages (from prompt-toolkit<3.1.0,>=3.0.41->ipython>=5.3.0->pyvis) (0.2.5)\n",
      "Requirement already satisfied: executing in c:\\users\\lenovo\\anaconda3\\lib\\site-packages (from stack-data->ipython>=5.3.0->pyvis) (0.8.3)\n",
      "Requirement already satisfied: asttokens in c:\\users\\lenovo\\anaconda3\\lib\\site-packages (from stack-data->ipython>=5.3.0->pyvis) (2.0.5)\n",
      "Requirement already satisfied: pure-eval in c:\\users\\lenovo\\anaconda3\\lib\\site-packages (from stack-data->ipython>=5.3.0->pyvis) (0.2.2)\n",
      "Requirement already satisfied: six in c:\\users\\lenovo\\anaconda3\\lib\\site-packages (from asttokens->stack-data->ipython>=5.3.0->pyvis) (1.16.0)\n",
      "Downloading pyvis-0.3.2-py3-none-any.whl (756 kB)\n",
      "   ---------------------------------------- 0.0/756.0 kB ? eta -:--:--\n",
      "    --------------------------------------- 10.2/756.0 kB ? eta -:--:--\n",
      "   --- ------------------------------------ 61.4/756.0 kB 1.1 MB/s eta 0:00:01\n",
      "   --------------------- ------------------ 399.4/756.0 kB 4.1 MB/s eta 0:00:01\n",
      "   -------------------------------------- - 727.0/756.0 kB 5.7 MB/s eta 0:00:01\n",
      "   ---------------------------------------- 756.0/756.0 kB 4.3 MB/s eta 0:00:00\n",
      "Downloading jsonpickle-3.0.4-py3-none-any.whl (39 kB)\n",
      "Installing collected packages: jsonpickle, pyvis\n",
      "Successfully installed jsonpickle-3.0.4 pyvis-0.3.2\n",
      "Note: you may need to restart the kernel to use updated packages.\n"
     ]
    }
   ],
   "source": [
    "pip install pyvis"
   ]
  },
  {
   "cell_type": "code",
   "execution_count": 14,
   "id": "9cfff149-b789-4eae-973b-8616aa8ccd7a",
   "metadata": {},
   "outputs": [
    {
     "name": "stdout",
     "output_type": "stream",
     "text": [
      "Gvis.html\n"
     ]
    },
    {
     "data": {
      "text/html": [
       "\n",
       "        <iframe\n",
       "            width=\"500px\"\n",
       "            height=\"500px\"\n",
       "            src=\"Gvis.html\"\n",
       "            frameborder=\"0\"\n",
       "            allowfullscreen\n",
       "            \n",
       "        ></iframe>\n",
       "        "
      ],
      "text/plain": [
       "<IPython.lib.display.IFrame at 0x134e8d05490>"
      ]
     },
     "execution_count": 14,
     "metadata": {},
     "output_type": "execute_result"
    }
   ],
   "source": [
    "from pyvis.network import Network\n",
    "\n",
    "Gvis = Network('500px', '500px',notebook=True,cdn_resources='remote')\n",
    "Gvis.from_nx(G.copy()) # create a copy!\n",
    "Gvis.show('Gvis.html')"
   ]
  },
  {
   "cell_type": "code",
   "execution_count": 15,
   "id": "913f4b86-d755-474d-9512-828327178a0a",
   "metadata": {},
   "outputs": [],
   "source": [
    "#Direccionalidad"
   ]
  },
  {
   "cell_type": "code",
   "execution_count": 16,
   "id": "ded40c60-8dc7-4f20-9b56-6669ec191711",
   "metadata": {},
   "outputs": [
    {
     "data": {
      "image/png": "[encoded data removed]",
      "text/plain": [
       "<Figure size 640x480 with 1 Axes>"
      ]
     },
     "metadata": {},
     "output_type": "display_data"
    }
   ],
   "source": [
    "# create graph\n",
    "dG = nx.DiGraph() #Gráfico direccionado \n",
    "\n",
    "# create nodes and edges\n",
    "dG.add_edges_from([(1, 2), (1, 3),(3,2),(3,4),(4,3)])\n",
    "\n",
    "# drawing\n",
    "nx.draw(dG,with_labels=True,node_color='white',edgecolors='black')"
   ]
  },
  {
   "cell_type": "code",
   "execution_count": 17,
   "id": "1e4914c7-0e4c-4656-b060-2260c1aafca6",
   "metadata": {},
   "outputs": [],
   "source": [
    "#Atributos"
   ]
  },
  {
   "cell_type": "code",
   "execution_count": 18,
   "id": "6647c72d-c532-4335-a7c3-7e616297ace8",
   "metadata": {},
   "outputs": [],
   "source": [
    "# adding attributes\n",
    "dG.nodes[1][\"sex\"]='male'\n",
    "dG.nodes[2][\"sex\"]='male'\n",
    "dG.nodes[3][\"sex\"]='female'\n",
    "dG.nodes[4][\"sex\"]='female'"
   ]
  },
  {
   "cell_type": "code",
   "execution_count": 19,
   "id": "bbfe083d-b21b-4819-864a-5e803ca39353",
   "metadata": {},
   "outputs": [
    {
     "data": {
      "text/plain": [
       "{1: 'male', 2: 'male', 3: 'female', 4: 'female'}"
      ]
     },
     "execution_count": 19,
     "metadata": {},
     "output_type": "execute_result"
    }
   ],
   "source": [
    "# seeing attributes\n",
    "nx.get_node_attributes(dG, \"sex\")"
   ]
  },
  {
   "cell_type": "code",
   "execution_count": 20,
   "id": "3cd1801d-d3be-4b05-aed3-0c0bea4a667e",
   "metadata": {},
   "outputs": [
    {
     "data": {
      "text/plain": [
       "dict_items([(1, 'male'), (2, 'male'), (3, 'female'), (4, 'female')])"
      ]
     },
     "execution_count": 20,
     "metadata": {},
     "output_type": "execute_result"
    }
   ],
   "source": [
    "#if \n",
    "nx.get_node_attributes(dG, \"sex\").items()"
   ]
  },
  {
   "cell_type": "code",
   "execution_count": 21,
   "id": "b4912cb3-1cef-4d93-83b6-579942c70c7a",
   "metadata": {},
   "outputs": [
    {
     "data": {
      "text/plain": [
       "{1: 'blue', 2: 'blue', 3: 'red', 4: 'red'}"
      ]
     },
     "execution_count": 21,
     "metadata": {},
     "output_type": "execute_result"
    }
   ],
   "source": [
    "# then\n",
    "{i:'red' if v=='female' else 'blue' for i,v in nx.get_node_attributes(dG, \"sex\").items()}"
   ]
  },
  {
   "cell_type": "code",
   "execution_count": 22,
   "id": "0034a4da-216e-4032-b83f-0e39e14acfb4",
   "metadata": {},
   "outputs": [
    {
     "data": {
      "text/plain": [
       "NodeDataView({1: {'sex': 'male', 'color': 'blue'}, 2: {'sex': 'male', 'color': 'blue'}, 3: {'sex': 'female', 'color': 'red'}, 4: {'sex': 'female', 'color': 'red'}})"
      ]
     },
     "execution_count": 22,
     "metadata": {},
     "output_type": "execute_result"
    }
   ],
   "source": [
    "# so...\n",
    "colors={i:'red' if v=='female' else 'blue' for i,v in nx.get_node_attributes(dG, \"sex\").items()}\n",
    "\n",
    "# set color\n",
    "nx.set_node_attributes(dG, colors, \"color\")\n",
    "dG.nodes.data()"
   ]
  },
  {
   "cell_type": "code",
   "execution_count": 23,
   "id": "935f06ed-2c02-4bba-b5c8-f1148351adc2",
   "metadata": {},
   "outputs": [
    {
     "data": {
      "text/plain": [
       "dict_values(['blue', 'blue', 'red', 'red'])"
      ]
     },
     "execution_count": 23,
     "metadata": {},
     "output_type": "execute_result"
    }
   ],
   "source": [
    "# since\n",
    "nx.get_node_attributes(dG, \"color\").values()"
   ]
  },
  {
   "cell_type": "code",
   "execution_count": 24,
   "id": "282426b2-dc8d-4f30-a64f-071d417fce40",
   "metadata": {},
   "outputs": [
    {
     "data": {
      "image/png": "[encoded data removed]",
      "text/plain": [
       "<Figure size 640x480 with 1 Axes>"
      ]
     },
     "metadata": {},
     "output_type": "display_data"
    }
   ],
   "source": [
    "# using node attributes\n",
    "\n",
    "nx.draw(dG,\n",
    "        with_labels=True,\n",
    "        node_color=nx.get_node_attributes(dG, \"color\").values())"
   ]
  },
  {
   "cell_type": "code",
   "execution_count": 25,
   "id": "00f8048f-dc43-48c1-af5d-cc0d61bdcf19",
   "metadata": {},
   "outputs": [],
   "source": [
    "dG.edges[(1, 2)]['weight']=1\n",
    "dG.edges[(1, 3)]['weight']=3\n",
    "dG.edges[(3, 2)]['weight']=5\n",
    "dG.edges[(3, 4)]['weight']=10\n",
    "dG.edges[(4, 3)]['weight']=0.5"
   ]
  },
  {
   "cell_type": "code",
   "execution_count": 26,
   "id": "d12e9ea1-9dcc-4754-ab0f-61040b23fa11",
   "metadata": {},
   "outputs": [
    {
     "data": {
      "text/plain": [
       "OutEdgeDataView([(1, 2, {'weight': 1}), (1, 3, {'weight': 3}), (3, 2, {'weight': 5}), (3, 4, {'weight': 10}), (4, 3, {'weight': 0.5})])"
      ]
     },
     "execution_count": 26,
     "metadata": {},
     "output_type": "execute_result"
    }
   ],
   "source": [
    "# see them\n",
    "dG.edges.data()"
   ]
  },
  {
   "cell_type": "code",
   "execution_count": 27,
   "id": "b8ad8da0-d30f-4da3-90fd-158d08d8872f",
   "metadata": {},
   "outputs": [
    {
     "data": {
      "text/plain": [
       "{(1, 2): 'grey',\n",
       " (1, 3): 'grey',\n",
       " (3, 2): 'grey',\n",
       " (3, 4): 'grey',\n",
       " (4, 3): 'magenta'}"
      ]
     },
     "execution_count": 27,
     "metadata": {},
     "output_type": "execute_result"
    }
   ],
   "source": [
    "# if\n",
    "{i:'magenta' if v<1 else 'grey' for i,v in nx.get_edge_attributes(dG, \"weight\").items()}"
   ]
  },
  {
   "cell_type": "code",
   "execution_count": 28,
   "id": "c3a8842b-94b7-463d-919d-5f93352bf13d",
   "metadata": {},
   "outputs": [],
   "source": [
    "# then\n",
    "colorEdges={i:'magenta' if v<1 else 'grey' for i,v in nx.get_edge_attributes(dG, \"weight\").items()}\n",
    "nx.set_edge_attributes(dG,values=colorEdges,name='color')"
   ]
  },
  {
   "cell_type": "code",
   "execution_count": 29,
   "id": "b219b647-3bcb-4b71-ac20-4e07f1b8dfd0",
   "metadata": {},
   "outputs": [
    {
     "data": {
      "text/plain": [
       "OutEdgeDataView([(1, 2, {'weight': 1, 'color': 'grey'}), (1, 3, {'weight': 3, 'color': 'grey'}), (3, 2, {'weight': 5, 'color': 'grey'}), (3, 4, {'weight': 10, 'color': 'grey'}), (4, 3, {'weight': 0.5, 'color': 'magenta'})])"
      ]
     },
     "execution_count": 29,
     "metadata": {},
     "output_type": "execute_result"
    }
   ],
   "source": [
    "# see edges and attributes\n",
    "dG.edges.data()"
   ]
  },
  {
   "cell_type": "code",
   "execution_count": 30,
   "id": "813ee057-639d-4b59-9729-40895834c857",
   "metadata": {},
   "outputs": [
    {
     "data": {
      "image/png": "[encoded data removed]",
      "text/plain": [
       "<Figure size 640x480 with 1 Axes>"
      ]
     },
     "metadata": {},
     "output_type": "display_data"
    }
   ],
   "source": [
    "# use the edge attributes\n",
    "# add labels to edges\n",
    "            \n",
    "pos = nx.spring_layout(dG) # position of the nodes\n",
    "\n",
    "nx.draw(dG,\n",
    "        pos, # using \"position\"\n",
    "        with_labels=True,\n",
    "        node_color=nx.get_node_attributes(dG, \"color\").values())\n",
    "\n",
    "# adding labels\n",
    "final_dG=nx.draw_networkx_edge_labels(dG,pos,edge_labels=nx.get_edge_attributes(dG,'weight'))"
   ]
  },
  {
   "cell_type": "code",
   "execution_count": 31,
   "id": "8780325d-373b-4cc4-b3de-625825611550",
   "metadata": {},
   "outputs": [
    {
     "data": {
      "text/plain": [
       "dict_values(['grey', 'grey', 'grey', 'grey', 'magenta'])"
      ]
     },
     "execution_count": 31,
     "metadata": {},
     "output_type": "execute_result"
    }
   ],
   "source": [
    "nx.get_edge_attributes(dG,'color').values()"
   ]
  },
  {
   "cell_type": "code",
   "execution_count": 32,
   "id": "cdf76204-51bc-4bb9-b799-fe4a6203658b",
   "metadata": {},
   "outputs": [
    {
     "name": "stderr",
     "output_type": "stream",
     "text": [
      "C:\\Users\\LENOVO\\AppData\\Local\\Temp\\ipykernel_2148\\3404522425.py:14: DeprecationWarning: `alltrue` is deprecated as of NumPy 1.25.0, and will be removed in NumPy 2.0. Please use `all` instead.\n",
      "  nx.draw_networkx_edges(dG, pos,\n"
     ]
    },
    {
     "data": {
      "image/png": "[encoded data removed]",
      "text/plain": [
       "<Figure size 640x480 with 1 Axes>"
      ]
     },
     "metadata": {},
     "output_type": "display_data"
    }
   ],
   "source": [
    "# use the edge attributes\n",
    "# add labels to edges\n",
    "# add color to edges\n",
    "\n",
    "edge_colors=nx.get_edge_attributes(dG,'color').values()\n",
    "colors_for_nodes=nx.get_node_attributes(dG,'color').values()\n",
    "weight_values=nx.get_edge_attributes(dG,'weight')\n",
    "pos = nx.spring_layout(dG) \n",
    "\n",
    "# draw nodes first\n",
    "nx.draw_networkx_nodes(dG,pos,\n",
    "                       node_color=colors_for_nodes)\n",
    "# draw edges\n",
    "nx.draw_networkx_edges(dG, pos,\n",
    "                       edge_color= edge_colors)\n",
    "# draw node labels\n",
    "nx.draw_networkx_labels(dG, pos)\n",
    "\n",
    "final_dG=nx.draw_networkx_edge_labels(dG,pos,\n",
    "                               edge_labels=weight_values)"
   ]
  },
  {
   "cell_type": "code",
   "execution_count": 33,
   "id": "d2330c11-a72e-444e-8a27-4acdb7b80282",
   "metadata": {},
   "outputs": [
    {
     "data": {
      "text/plain": [
       "dict_keys(['sex', 'color'])"
      ]
     },
     "execution_count": 33,
     "metadata": {},
     "output_type": "execute_result"
    }
   ],
   "source": [
    "dG.nodes.data()[1].keys()"
   ]
  },
  {
   "cell_type": "code",
   "execution_count": 34,
   "id": "a8a21988-f045-44bd-819d-2386aba40c5f",
   "metadata": {},
   "outputs": [
    {
     "data": {
      "text/plain": [
       "dict_keys(['weight', 'color'])"
      ]
     },
     "execution_count": 34,
     "metadata": {},
     "output_type": "execute_result"
    }
   ],
   "source": [
    "[i[2].keys() for i in dG.edges.data()][0]"
   ]
  },
  {
   "cell_type": "code",
   "execution_count": 35,
   "id": "d54d7927-6663-485b-b792-abfdf06ac04f",
   "metadata": {},
   "outputs": [],
   "source": [
    "# id as label\n",
    "labels={i:str(i) for i in dG.nodes()}\n",
    "nx.set_node_attributes(dG, labels, \"label\")\n",
    "\n",
    "# weight as label\n",
    "labels={e:str(v) for e,v in nx.get_edge_attributes(dG, \"weight\").items()}\n",
    "nx.set_edge_attributes(dG, labels, \"label\")"
   ]
  },
  {
   "cell_type": "code",
   "execution_count": 36,
   "id": "cfc9b49a-a024-452c-80ae-f6da2b37f68a",
   "metadata": {},
   "outputs": [
    {
     "data": {
      "text/plain": [
       "OutEdgeDataView([(1, 2, {'weight': 1, 'color': 'grey', 'label': '1'}), (1, 3, {'weight': 3, 'color': 'grey', 'label': '3'}), (3, 2, {'weight': 5, 'color': 'grey', 'label': '5'}), (3, 4, {'weight': 10, 'color': 'grey', 'label': '10'}), (4, 3, {'weight': 0.5, 'color': 'magenta', 'label': '0.5'})])"
      ]
     },
     "execution_count": 36,
     "metadata": {},
     "output_type": "execute_result"
    }
   ],
   "source": [
    "dG.edges.data()"
   ]
  },
  {
   "cell_type": "code",
   "execution_count": 37,
   "id": "8993eec6-30a2-4b36-b743-d59d2d9b25a8",
   "metadata": {},
   "outputs": [
    {
     "name": "stdout",
     "output_type": "stream",
     "text": [
      "dGvis.html\n"
     ]
    },
    {
     "data": {
      "text/html": [
       "\n",
       "        <iframe\n",
       "            width=\"500px\"\n",
       "            height=\"500px\"\n",
       "            src=\"dGvis.html\"\n",
       "            frameborder=\"0\"\n",
       "            allowfullscreen\n",
       "            \n",
       "        ></iframe>\n",
       "        "
      ],
      "text/plain": [
       "<IPython.lib.display.IFrame at 0x134e7904810>"
      ]
     },
     "execution_count": 37,
     "metadata": {},
     "output_type": "execute_result"
    }
   ],
   "source": [
    "dGvis = Network('500px', '500px',notebook=True,cdn_resources='remote',directed=True)\n",
    "dGvis.from_nx(dG.copy())\n",
    "dGvis.show('dGvis.html')"
   ]
  },
  {
   "cell_type": "code",
   "execution_count": 38,
   "id": "2bd8e8eb-be29-4cb6-8bcc-82c288a64f20",
   "metadata": {},
   "outputs": [],
   "source": [
    "#Exporting"
   ]
  },
  {
   "cell_type": "code",
   "execution_count": 39,
   "id": "f3c7bc19-f460-4637-acd3-e60e5fa83bdf",
   "metadata": {},
   "outputs": [],
   "source": [
    "nx.write_gml(dG, \"dG.gml\")"
   ]
  },
  {
   "cell_type": "code",
   "execution_count": 40,
   "id": "9e833f87-521f-4f3a-b257-61d79cd6e27a",
   "metadata": {},
   "outputs": [],
   "source": [
    "#Caso Élites"
   ]
  },
  {
   "cell_type": "code",
   "execution_count": 42,
   "id": "8d571e49-df7d-4e85-9bfa-6fec8d07e6b2",
   "metadata": {},
   "outputs": [
    {
     "ename": "FileNotFoundError",
     "evalue": "[Errno 2] No such file or directory: 'graphdata\\\\dataFigueroa.xlsx'",
     "output_type": "error",
     "traceback": [
      "\u001b[1;31m---------------------------------------------------------------------------\u001b[0m",
      "\u001b[1;31mFileNotFoundError\u001b[0m                         Traceback (most recent call last)",
      "Cell \u001b[1;32mIn[42], line 5\u001b[0m\n\u001b[0;32m      2\u001b[0m \u001b[38;5;28;01mimport\u001b[39;00m \u001b[38;5;21;01mpandas\u001b[39;00m \u001b[38;5;28;01mas\u001b[39;00m \u001b[38;5;21;01mpd\u001b[39;00m\n\u001b[0;32m      3\u001b[0m \u001b[38;5;28;01mimport\u001b[39;00m \u001b[38;5;21;01mos\u001b[39;00m\n\u001b[1;32m----> 5\u001b[0m FigueData \u001b[38;5;241m=\u001b[39m pd\u001b[38;5;241m.\u001b[39mread_excel(os\u001b[38;5;241m.\u001b[39mpath\u001b[38;5;241m.\u001b[39mjoin(\u001b[38;5;124m\"\u001b[39m\u001b[38;5;124mgraphdata\u001b[39m\u001b[38;5;124m\"\u001b[39m,\u001b[38;5;124m\"\u001b[39m\u001b[38;5;124mdataFigueroa.xlsx\u001b[39m\u001b[38;5;124m\"\u001b[39m),\n\u001b[0;32m      6\u001b[0m                           index_col\u001b[38;5;241m=\u001b[39m\u001b[38;5;241m0\u001b[39m)\n",
      "File \u001b[1;32m~\\anaconda3\\Lib\\site-packages\\pandas\\io\\excel\\_base.py:504\u001b[0m, in \u001b[0;36mread_excel\u001b[1;34m(io, sheet_name, header, names, index_col, usecols, dtype, engine, converters, true_values, false_values, skiprows, nrows, na_values, keep_default_na, na_filter, verbose, parse_dates, date_parser, date_format, thousands, decimal, comment, skipfooter, storage_options, dtype_backend, engine_kwargs)\u001b[0m\n\u001b[0;32m    502\u001b[0m \u001b[38;5;28;01mif\u001b[39;00m \u001b[38;5;129;01mnot\u001b[39;00m \u001b[38;5;28misinstance\u001b[39m(io, ExcelFile):\n\u001b[0;32m    503\u001b[0m     should_close \u001b[38;5;241m=\u001b[39m \u001b[38;5;28;01mTrue\u001b[39;00m\n\u001b[1;32m--> 504\u001b[0m     io \u001b[38;5;241m=\u001b[39m ExcelFile(\n\u001b[0;32m    505\u001b[0m         io,\n\u001b[0;32m    506\u001b[0m         storage_options\u001b[38;5;241m=\u001b[39mstorage_options,\n\u001b[0;32m    507\u001b[0m         engine\u001b[38;5;241m=\u001b[39mengine,\n\u001b[0;32m    508\u001b[0m         engine_kwargs\u001b[38;5;241m=\u001b[39mengine_kwargs,\n\u001b[0;32m    509\u001b[0m     )\n\u001b[0;32m    510\u001b[0m \u001b[38;5;28;01melif\u001b[39;00m engine \u001b[38;5;129;01mand\u001b[39;00m engine \u001b[38;5;241m!=\u001b[39m io\u001b[38;5;241m.\u001b[39mengine:\n\u001b[0;32m    511\u001b[0m     \u001b[38;5;28;01mraise\u001b[39;00m \u001b[38;5;167;01mValueError\u001b[39;00m(\n\u001b[0;32m    512\u001b[0m         \u001b[38;5;124m\"\u001b[39m\u001b[38;5;124mEngine should not be specified when passing \u001b[39m\u001b[38;5;124m\"\u001b[39m\n\u001b[0;32m    513\u001b[0m         \u001b[38;5;124m\"\u001b[39m\u001b[38;5;124man ExcelFile - ExcelFile already has the engine set\u001b[39m\u001b[38;5;124m\"\u001b[39m\n\u001b[0;32m    514\u001b[0m     )\n",
      "File \u001b[1;32m~\\anaconda3\\Lib\\site-packages\\pandas\\io\\excel\\_base.py:1563\u001b[0m, in \u001b[0;36mExcelFile.__init__\u001b[1;34m(self, path_or_buffer, engine, storage_options, engine_kwargs)\u001b[0m\n\u001b[0;32m   1561\u001b[0m     ext \u001b[38;5;241m=\u001b[39m \u001b[38;5;124m\"\u001b[39m\u001b[38;5;124mxls\u001b[39m\u001b[38;5;124m\"\u001b[39m\n\u001b[0;32m   1562\u001b[0m \u001b[38;5;28;01melse\u001b[39;00m:\n\u001b[1;32m-> 1563\u001b[0m     ext \u001b[38;5;241m=\u001b[39m inspect_excel_format(\n\u001b[0;32m   1564\u001b[0m         content_or_path\u001b[38;5;241m=\u001b[39mpath_or_buffer, storage_options\u001b[38;5;241m=\u001b[39mstorage_options\n\u001b[0;32m   1565\u001b[0m     )\n\u001b[0;32m   1566\u001b[0m     \u001b[38;5;28;01mif\u001b[39;00m ext \u001b[38;5;129;01mis\u001b[39;00m \u001b[38;5;28;01mNone\u001b[39;00m:\n\u001b[0;32m   1567\u001b[0m         \u001b[38;5;28;01mraise\u001b[39;00m \u001b[38;5;167;01mValueError\u001b[39;00m(\n\u001b[0;32m   1568\u001b[0m             \u001b[38;5;124m\"\u001b[39m\u001b[38;5;124mExcel file format cannot be determined, you must specify \u001b[39m\u001b[38;5;124m\"\u001b[39m\n\u001b[0;32m   1569\u001b[0m             \u001b[38;5;124m\"\u001b[39m\u001b[38;5;124man engine manually.\u001b[39m\u001b[38;5;124m\"\u001b[39m\n\u001b[0;32m   1570\u001b[0m         )\n",
      "File \u001b[1;32m~\\anaconda3\\Lib\\site-packages\\pandas\\io\\excel\\_base.py:1419\u001b[0m, in \u001b[0;36minspect_excel_format\u001b[1;34m(content_or_path, storage_options)\u001b[0m\n\u001b[0;32m   1416\u001b[0m \u001b[38;5;28;01mif\u001b[39;00m \u001b[38;5;28misinstance\u001b[39m(content_or_path, \u001b[38;5;28mbytes\u001b[39m):\n\u001b[0;32m   1417\u001b[0m     content_or_path \u001b[38;5;241m=\u001b[39m BytesIO(content_or_path)\n\u001b[1;32m-> 1419\u001b[0m \u001b[38;5;28;01mwith\u001b[39;00m get_handle(\n\u001b[0;32m   1420\u001b[0m     content_or_path, \u001b[38;5;124m\"\u001b[39m\u001b[38;5;124mrb\u001b[39m\u001b[38;5;124m\"\u001b[39m, storage_options\u001b[38;5;241m=\u001b[39mstorage_options, is_text\u001b[38;5;241m=\u001b[39m\u001b[38;5;28;01mFalse\u001b[39;00m\n\u001b[0;32m   1421\u001b[0m ) \u001b[38;5;28;01mas\u001b[39;00m handle:\n\u001b[0;32m   1422\u001b[0m     stream \u001b[38;5;241m=\u001b[39m handle\u001b[38;5;241m.\u001b[39mhandle\n\u001b[0;32m   1423\u001b[0m     stream\u001b[38;5;241m.\u001b[39mseek(\u001b[38;5;241m0\u001b[39m)\n",
      "File \u001b[1;32m~\\anaconda3\\Lib\\site-packages\\pandas\\io\\common.py:872\u001b[0m, in \u001b[0;36mget_handle\u001b[1;34m(path_or_buf, mode, encoding, compression, memory_map, is_text, errors, storage_options)\u001b[0m\n\u001b[0;32m    863\u001b[0m         handle \u001b[38;5;241m=\u001b[39m \u001b[38;5;28mopen\u001b[39m(\n\u001b[0;32m    864\u001b[0m             handle,\n\u001b[0;32m    865\u001b[0m             ioargs\u001b[38;5;241m.\u001b[39mmode,\n\u001b[1;32m   (...)\u001b[0m\n\u001b[0;32m    868\u001b[0m             newline\u001b[38;5;241m=\u001b[39m\u001b[38;5;124m\"\u001b[39m\u001b[38;5;124m\"\u001b[39m,\n\u001b[0;32m    869\u001b[0m         )\n\u001b[0;32m    870\u001b[0m     \u001b[38;5;28;01melse\u001b[39;00m:\n\u001b[0;32m    871\u001b[0m         \u001b[38;5;66;03m# Binary mode\u001b[39;00m\n\u001b[1;32m--> 872\u001b[0m         handle \u001b[38;5;241m=\u001b[39m \u001b[38;5;28mopen\u001b[39m(handle, ioargs\u001b[38;5;241m.\u001b[39mmode)\n\u001b[0;32m    873\u001b[0m     handles\u001b[38;5;241m.\u001b[39mappend(handle)\n\u001b[0;32m    875\u001b[0m \u001b[38;5;66;03m# Convert BytesIO or file objects passed with an encoding\u001b[39;00m\n",
      "\u001b[1;31mFileNotFoundError\u001b[0m: [Errno 2] No such file or directory: 'graphdata\\\\dataFigueroa.xlsx'"
     ]
    }
   ],
   "source": [
    "# reading in\n",
    "import pandas as pd\n",
    "import os\n",
    "\n",
    "FigueData = pd.read_excel(os.path.join(\"graphdata\",\"dataFigueroa.xlsx\"),\n",
    "                          index_col=0) #notice!!!!!"
   ]
  },
  {
   "cell_type": "code",
   "execution_count": null,
   "id": "ec67351e-8ad6-4df7-ac43-ba448b10877b",
   "metadata": {},
   "outputs": [],
   "source": [
    "FigueData.head()"
   ]
  },
  {
   "cell_type": "code",
   "execution_count": null,
   "id": "de64c6b7-45a4-4ac7-b4ba-ade7f46ce798",
   "metadata": {},
   "outputs": [],
   "source": [
    "FigueData.columns"
   ]
  },
  {
   "cell_type": "code",
   "execution_count": null,
   "id": "dbe924ae-2935-418f-b88d-3306ce6aa5e7",
   "metadata": {},
   "outputs": [],
   "source": [
    "#Adjency"
   ]
  },
  {
   "cell_type": "code",
   "execution_count": null,
   "id": "d757036f-3fb8-4d90-a7aa-5da59e4b138f",
   "metadata": {},
   "outputs": [],
   "source": [
    "varsToDrop=['Multinacional']\n",
    "adjacency=FigueData.drop(varsToDrop,axis=1) \n",
    "\n",
    "#result\n",
    "adjacency"
   ]
  },
  {
   "cell_type": "code",
   "execution_count": null,
   "id": "c1b97059-32c6-429e-8aa2-995aa1f0e397",
   "metadata": {},
   "outputs": [],
   "source": [
    "EliteNet = nx.from_pandas_adjacency(adjacency)"
   ]
  },
  {
   "cell_type": "code",
   "execution_count": null,
   "id": "0057cde8-4c81-486b-9e59-04fb8bce04ed",
   "metadata": {},
   "outputs": [],
   "source": [
    "# nodes:\n",
    "len(EliteNet)"
   ]
  },
  {
   "cell_type": "code",
   "execution_count": null,
   "id": "fc75548c-cf6b-4896-a1f8-a3402d3fdfbc",
   "metadata": {},
   "outputs": [],
   "source": [
    "# edges:\n",
    "EliteNet.size()"
   ]
  },
  {
   "cell_type": "code",
   "execution_count": null,
   "id": "202f0272-ce89-4e43-b48f-82775c252df0",
   "metadata": {},
   "outputs": [],
   "source": [
    "# plot\n",
    "nx.draw_random(EliteNet,\n",
    "                node_color='yellow',\n",
    "                edge_color='lightblue',\n",
    "                with_labels=True,\n",
    "                font_size=8)"
   ]
  },
  {
   "cell_type": "code",
   "execution_count": null,
   "id": "1d8bffb3-d0e0-4793-8558-b14c10b8abd7",
   "metadata": {},
   "outputs": [],
   "source": [
    "EliteNet.remove_edges_from(nx.selfloop_edges(EliteNet))"
   ]
  },
  {
   "cell_type": "code",
   "execution_count": null,
   "id": "4f415de0-4842-4058-b321-55c71a94ebd7",
   "metadata": {},
   "outputs": [],
   "source": [
    "# re plot\n",
    "nx.draw_random(EliteNet,\n",
    "                node_color='yellow',\n",
    "                edge_color='lightblue',\n",
    "                with_labels=True,\n",
    "                font_size=8)"
   ]
  },
  {
   "cell_type": "code",
   "execution_count": null,
   "id": "b1d7d085-1ca0-44a9-b47d-14096566ef47",
   "metadata": {},
   "outputs": [],
   "source": [
    "FigueData['Multinacional'].head()"
   ]
  },
  {
   "cell_type": "code",
   "execution_count": null,
   "id": "27a4bce7-99ea-4da5-a131-24b9e62ed458",
   "metadata": {},
   "outputs": [],
   "source": [
    "# no attribute:\n",
    "EliteNet.nodes.data()"
   ]
  },
  {
   "cell_type": "code",
   "execution_count": null,
   "id": "f3b62960-2d28-42fe-b304-737bfeb15407",
   "metadata": {},
   "outputs": [],
   "source": [
    "dict(zip(FigueData.index,FigueData['Multinacional']))"
   ]
  },
  {
   "cell_type": "code",
   "execution_count": null,
   "id": "7d98fc7b-27b3-4f73-8314-e88a20f532b7",
   "metadata": {},
   "outputs": [],
   "source": [
    "attributeToAdd=dict(zip(FigueData.index,FigueData['Multinacional']))\n",
    "nx.set_node_attributes(EliteNet, attributeToAdd,'multi')"
   ]
  },
  {
   "cell_type": "code",
   "execution_count": null,
   "id": "14aa30fe-c328-4839-8aea-4881b6a4927f",
   "metadata": {},
   "outputs": [],
   "source": [
    "colors={e:'red' if v==1 else 'green' for e,v in nx.get_node_attributes(EliteNet,\"multi\").items()}\n",
    "nx.set_node_attributes(EliteNet, colors, \"color\")\n",
    "\n",
    "# updated nodes\n",
    "EliteNet.nodes.data()"
   ]
  },
  {
   "cell_type": "code",
   "execution_count": null,
   "id": "6525a4af-e0ed-4364-a19b-1f4062018a60",
   "metadata": {},
   "outputs": [],
   "source": [
    "# using node attributes\n",
    "\n",
    "nx.draw_random(EliteNet)"
   ]
  }
 ],
 "metadata": {
  "kernelspec": {
   "display_name": "Python 3 (ipykernel)",
   "language": "python",
   "name": "python3"
  },
  "language_info": {
   "codemirror_mode": {
    "name": "ipython",
    "version": 3
   },
   "file_extension": ".py",
   "mimetype": "text/x-python",
   "name": "python",
   "nbconvert_exporter": "python",
   "pygments_lexer": "ipython3",
   "version": "3.11.7"
  }
 },
 "nbformat": 4,
 "nbformat_minor": 5
}
